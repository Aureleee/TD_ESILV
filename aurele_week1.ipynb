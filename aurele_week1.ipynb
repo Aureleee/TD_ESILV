{
 "cells": [
  {
   "cell_type": "markdown",
   "id": "1f5e9aac",
   "metadata": {
    "vscode": {
     "languageId": "plaintext"
    }
   },
   "source": [
    "### TD_1:   First neural network for classifying images\n",
    "---"
   ]
  },
  {
   "cell_type": "markdown",
   "id": "486b493c",
   "metadata": {},
   "source": [
    "Exe. 1"
   ]
  },
  {
   "cell_type": "code",
   "execution_count": 51,
   "id": "bf437635",
   "metadata": {},
   "outputs": [],
   "source": [
    "#run this only in GC \n",
    "try :\n",
    "    %tensorflow_version 2.x\n",
    "except Exception:\n",
    "    pass"
   ]
  },
  {
   "cell_type": "markdown",
   "id": "f735ba80",
   "metadata": {},
   "source": [
    "Exe. 2"
   ]
  },
  {
   "cell_type": "code",
   "execution_count": 52,
   "id": "68544d7d",
   "metadata": {},
   "outputs": [],
   "source": [
    "#run this only on GC\n",
    "from __future__ import absolute_import, division, print_function, unicode_literals"
   ]
  },
  {
   "cell_type": "code",
   "execution_count": 166,
   "id": "c4bb5e20",
   "metadata": {},
   "outputs": [],
   "source": [
    "#cool library\n",
    "import tensorflow as tf\n",
    "from tensorflow import keras\n",
    "\n",
    "#bboooooooo\n",
    "import numpy as np\n",
    "import matplotlib.pyplot as plt"
   ]
  },
  {
   "cell_type": "markdown",
   "id": "0f439c15",
   "metadata": {},
   "source": [
    "Exe 3 "
   ]
  },
  {
   "cell_type": "code",
   "execution_count": 54,
   "id": "7a611ee1",
   "metadata": {},
   "outputs": [
    {
     "name": "stdout",
     "output_type": "stream",
     "text": [
      "2.20.0\n"
     ]
    }
   ],
   "source": [
    "print(tf.__version__)"
   ]
  },
  {
   "cell_type": "markdown",
   "id": "7ee6d743",
   "metadata": {},
   "source": [
    "Exe 4 "
   ]
  },
  {
   "cell_type": "code",
   "execution_count": 55,
   "id": "eea96595",
   "metadata": {},
   "outputs": [],
   "source": [
    "data = keras.datasets.cifar10\n",
    "cifar10_data = data.load_data()"
   ]
  },
  {
   "cell_type": "markdown",
   "id": "80068053",
   "metadata": {},
   "source": [
    "Exe. 5 "
   ]
  },
  {
   "cell_type": "code",
   "execution_count": 56,
   "id": "5a4ef920",
   "metadata": {},
   "outputs": [
    {
     "name": "stdout",
     "output_type": "stream",
     "text": [
      "lenght of cifar10_data :2\n",
      "\n",
      "shape of cifar10_data[0][0] :(50000, 32, 32, 3)\n",
      "\n",
      "shape of cifar10_data[0][1] :(50000, 1)\n",
      "\n",
      "type of cifar10_data :<class 'tuple'>\n",
      "\n"
     ]
    }
   ],
   "source": [
    "print(f\"lenght of cifar10_data :{len(cifar10_data)}\\n\")\n",
    "print(f\"shape of cifar10_data[0][0] :{cifar10_data[0][0].shape}\\n\")\n",
    "print(f\"shape of cifar10_data[0][1] :{cifar10_data[0][1].shape}\\n\")\n",
    "print(f\"type of cifar10_data :{type(cifar10_data)}\\n\")"
   ]
  },
  {
   "cell_type": "markdown",
   "id": "d45711e3",
   "metadata": {},
   "source": [
    "50000 photos of 32x32x3 (3 for RGB) pixels"
   ]
  },
  {
   "cell_type": "markdown",
   "id": "6e3a2144",
   "metadata": {},
   "source": [
    "Exe. 6"
   ]
  },
  {
   "cell_type": "code",
   "execution_count": null,
   "id": "dfeda69f",
   "metadata": {},
   "outputs": [],
   "source": [
    "(train_images, train_labels) , (test_images, test_labels)= cifar10_data\n",
    "\n",
    "\n",
    "#will be usefull for later \n",
    "\n",
    "def ft_cifar10_data(void):\n",
    "    \n",
    "    data = keras.datasets.cifar10_data\n",
    "    cifar10_data = data.load_data()\n",
    "    (train_images, train_labels) , (test_images, test_labels)= cifar10_data\n",
    "    test_images = test_images.astype(\"float32\") / 255.0\n",
    "    train_images = train_images.astype(\"float32\") / 255.0  \n",
    "    return (train_images, train_labels) , (test_images, test_labels)"
   ]
  },
  {
   "cell_type": "markdown",
   "id": "92fe3941",
   "metadata": {},
   "source": [
    "Exe 7"
   ]
  },
  {
   "cell_type": "code",
   "execution_count": 58,
   "id": "9f448db5",
   "metadata": {},
   "outputs": [
    {
     "name": "stdout",
     "output_type": "stream",
     "text": [
      "[0 0 0]\n",
      "(32, 32, 3)\n"
     ]
    }
   ],
   "source": [
    "print(train_images[0][1][1])\n",
    "print(train_images[0].shape)\n",
    "\n",
    "class_names = [\n",
    "    'airplane',\n",
    "    'automobile',\n",
    "    'bird',\n",
    "    'cat',\n",
    "    'deer',\n",
    "    'dog',\n",
    "    'frog',\n",
    "    'horse',\n",
    "    'ship',\n",
    "    'truck'\n",
    "]"
   ]
  },
  {
   "cell_type": "markdown",
   "id": "3c187b39",
   "metadata": {},
   "source": [
    "Exe 9"
   ]
  },
  {
   "cell_type": "code",
   "execution_count": 59,
   "id": "51d18440",
   "metadata": {},
   "outputs": [
    {
     "data": {
      "image/png": "[encoded data removed]",
      "text/plain": [
       "<Figure size 640x480 with 2 Axes>"
      ]
     },
     "metadata": {},
     "output_type": "display_data"
    }
   ],
   "source": [
    "index = 7 \n",
    "plt.figure()\n",
    "plt.imshow(train_images[index])\n",
    "plt.title(class_names[train_labels[index][0]])\n",
    "plt.colorbar()\n",
    "plt.grid(False)\n",
    "plt.show()\n"
   ]
  },
  {
   "cell_type": "markdown",
   "id": "62a3f9f5",
   "metadata": {},
   "source": [
    "Exe 10"
   ]
  },
  {
   "cell_type": "code",
   "execution_count": 60,
   "id": "278f443b",
   "metadata": {},
   "outputs": [
    {
     "data": {
      "image/png": "[encoded data removed]",
      "text/plain": [
       "<Figure size 640x480 with 1 Axes>"
      ]
     },
     "metadata": {},
     "output_type": "display_data"
    },
    {
     "data": {
      "image/png": "[encoded data removed]",
      "text/plain": [
       "<Figure size 640x480 with 1 Axes>"
      ]
     },
     "metadata": {},
     "output_type": "display_data"
    }
   ],
   "source": [
    "#utils \n",
    "\n",
    "def ft_showme(image, label=None,cmap=None):\n",
    "    \"\"\"\n",
    "    image: numpy array (2D)\n",
    "    cmap: \n",
    "    \"\"\"\n",
    "    plt.imshow(image)\n",
    "    if label is not None:\n",
    "        plt.title(f\"Label: {label}\")\n",
    "    plt.axis(\"off\")\n",
    "    plt.show()\n",
    "ft_showme(train_images[0], class_names[train_labels[0][0]],cmap='')\n",
    "ft_showme(train_images[1],class_names[train_labels[1][0]],cmap='')\n"
   ]
  },
  {
   "cell_type": "code",
   "execution_count": 61,
   "id": "0185e55b",
   "metadata": {},
   "outputs": [],
   "source": [
    "# plt.subplot()\n",
    "# plt.xticks([])\n",
    "# plt.yticks([])\n",
    "# plt.imshow()\n",
    "# plt.xlabel()\n",
    "\n",
    "#what is this  ?? "
   ]
  },
  {
   "cell_type": "markdown",
   "id": "e6fddcdd",
   "metadata": {},
   "source": [
    "Exe 11 "
   ]
  },
  {
   "cell_type": "code",
   "execution_count": null,
   "id": "cf37d8fe",
   "metadata": {},
   "outputs": [],
   "source": []
  },
  {
   "cell_type": "markdown",
   "id": "b653f21a",
   "metadata": {},
   "source": [
    "Exe 12 "
   ]
  },
  {
   "cell_type": "code",
   "execution_count": 270,
   "id": "6cf98001",
   "metadata": {},
   "outputs": [],
   "source": [
    "\n",
    "(train_images, train_labels) , (test_images, test_labels) = ft_cifar10_data()\n",
    "data = ft_cifar10_data()\n",
    "def create_model(data):\n",
    "    shape =data[0][0].shape[1:]\n",
    "    model = keras.Sequential([\n",
    "        keras.Input(shape= shape),\n",
    "        keras.layers.Flatten(),\n",
    "        keras.layers.Dense(128, activation='relu'),\n",
    "        keras.layers.Dense(10, activation='softmax')    \n",
    "    ])\n",
    "    model.compile(optimizer='adam',\n",
    "                  loss='sparse_categorical_crossentropy',\n",
    "                  metrics=['accuracy'])\n",
    "    return model\n",
    "\n",
    "model = create_model(data)\n",
    "model.save(\"init.keras\")"
   ]
  },
  {
   "cell_type": "markdown",
   "id": "1577b438",
   "metadata": {},
   "source": [
    "Exe 14"
   ]
  },
  {
   "cell_type": "code",
   "execution_count": 272,
   "id": "80fc5471",
   "metadata": {},
   "outputs": [
    {
     "name": "stdout",
     "output_type": "stream",
     "text": [
      "Epoch 1/5\n",
      "\u001b[1m1563/1563\u001b[0m \u001b[32m━━━━━━━━━━━━━━━━━━━━\u001b[0m\u001b[37m\u001b[0m \u001b[1m2s\u001b[0m 967us/step - accuracy: 0.4130 - loss: 1.6549\n",
      "Epoch 2/5\n",
      "\u001b[1m1563/1563\u001b[0m \u001b[32m━━━━━━━━━━━━━━━━━━━━\u001b[0m\u001b[37m\u001b[0m \u001b[1m2s\u001b[0m 994us/step - accuracy: 0.4224 - loss: 1.6273\n",
      "Epoch 3/5\n",
      "\u001b[1m1563/1563\u001b[0m \u001b[32m━━━━━━━━━━━━━━━━━━━━\u001b[0m\u001b[37m\u001b[0m \u001b[1m2s\u001b[0m 967us/step - accuracy: 0.4303 - loss: 1.6011\n",
      "Epoch 4/5\n",
      "\u001b[1m1563/1563\u001b[0m \u001b[32m━━━━━━━━━━━━━━━━━━━━\u001b[0m\u001b[37m\u001b[0m \u001b[1m2s\u001b[0m 980us/step - accuracy: 0.4361 - loss: 1.5807\n",
      "Epoch 5/5\n",
      "\u001b[1m1563/1563\u001b[0m \u001b[32m━━━━━━━━━━━━━━━━━━━━\u001b[0m\u001b[37m\u001b[0m \u001b[1m2s\u001b[0m 974us/step - accuracy: 0.4424 - loss: 1.5667\n"
     ]
    }
   ],
   "source": [
    "#let's compile it :P\n",
    "model.fit(train_images, train_labels, epochs=5)\n",
    "model.save(\"my_model.keras\")   # ou .h5"
   ]
  },
  {
   "cell_type": "markdown",
   "id": "96cc803b",
   "metadata": {},
   "source": [
    "Exe 15"
   ]
  },
  {
   "cell_type": "code",
   "execution_count": 274,
   "id": "1f1f41a2",
   "metadata": {},
   "outputs": [
    {
     "name": "stdout",
     "output_type": "stream",
     "text": [
      "\u001b[1m313/313\u001b[0m \u001b[32m━━━━━━━━━━━━━━━━━━━━\u001b[0m\u001b[37m\u001b[0m \u001b[1m0s\u001b[0m 316us/step\n",
      "[[0.05692749 0.08130499 0.06849737 0.06430248 0.12789634 0.28535607\n",
      "  0.09219969 0.04384172 0.11147692 0.06819689]\n",
      " [0.03930809 0.12089562 0.07248452 0.04835408 0.1600986  0.16429594\n",
      "  0.11540291 0.04985761 0.12533751 0.10396514]\n",
      " [0.0256819  0.07884333 0.07630348 0.04884546 0.12656356 0.21945879\n",
      "  0.14415832 0.04360885 0.12816739 0.10836897]\n",
      " [0.04080026 0.06611032 0.05827093 0.03970306 0.17686425 0.24319425\n",
      "  0.09251066 0.06492689 0.12228588 0.09533356]\n",
      " [0.08442758 0.08286123 0.08408667 0.06610425 0.11646891 0.2735993\n",
      "  0.07462282 0.03978956 0.08540797 0.09263176]]\n"
     ]
    }
   ],
   "source": [
    "model= tf.keras.models.load_model(\"init.keras\")\n",
    "\n",
    "# model.load_weights(\"init.weights.h5\")\n",
    "predictions = model.predict(test_images)\n",
    "\n",
    "print(predictions[:5])\n"
   ]
  },
  {
   "cell_type": "code",
   "execution_count": 73,
   "id": "5391d2b9",
   "metadata": {},
   "outputs": [],
   "source": [
    "# DOn't execute (it will reset the weights)\n"
   ]
  },
  {
   "cell_type": "markdown",
   "id": "47872188",
   "metadata": {},
   "source": [
    "Exe 16"
   ]
  },
  {
   "cell_type": "code",
   "execution_count": null,
   "id": "ebe8e456",
   "metadata": {},
   "outputs": [
    {
     "name": "stdout",
     "output_type": "stream",
     "text": [
      "\u001b[1m313/313\u001b[0m \u001b[32m━━━━━━━━━━━━━━━━━━━━\u001b[0m\u001b[37m\u001b[0m \u001b[1m0s\u001b[0m 316us/step\n",
      "\n",
      "predicted labels : [6 8 8 0 4 6 5 6 2 1 8 9 5 0 1]\n",
      "\n",
      "probability of predicted labels :\n",
      "0.318\t0.613\t0.436\t0.368\t0.808\t0.484\t0.341\t0.615\t0.376\t0.594\t0.458\t0.842\t0.274\t0.444\t0.472\t\n",
      "\n",
      "real labels : [3 8 8 0 6 6 1 6 3 1 0 9 5 7 9]\n",
      "\n",
      "\n",
      "Probability of real label\n",
      "0.085\t0.613\t0.436\t0.368\t0.068\t0.484\t0.125\t0.615\t0.087\t0.594\t0.365\t0.842\t0.274\t0.256\t0.196\t"
     ]
    }
   ],
   "source": [
    "model= tf.keras.models.load_model(\"my_model.keras\")\n",
    "\n",
    "\n",
    "predictions = model.predict(test_images)\n",
    "\n",
    "index = 15;\n",
    "#print(predictions[:index])\n",
    "pre = np.argmax(predictions, axis=1)\n",
    "## NEED TO MODIFY THE FOLLOWING LINE !! (just kidding hhh)\n",
    "print(f\"\\npredicted labels : {pre[:index]}\\n\")\n",
    "print(f\"probability of predicted labels :\")\n",
    "for i in range(index):\n",
    "    print(f\"{predictions[i][pre[i]]:.3f}\", end=\"\\t\")\n",
    "print(f\"\\n\\nreal labels : {test_labels[:index].flatten()}\\n\")\n",
    "print(\"\\nProbability of real label\")\n",
    "for i in range(index):\n",
    "    print(f\"{predictions[i][test_labels[i][0]]:.3f}\", end=\"\\t\")"
   ]
  },
  {
   "cell_type": "code",
   "execution_count": 157,
   "id": "a197eeec",
   "metadata": {},
   "outputs": [
    {
     "data": {
      "image/png": "[encoded data removed]",
      "text/plain": [
       "<Figure size 640x480 with 1 Axes>"
      ]
     },
     "metadata": {},
     "output_type": "display_data"
    },
    {
     "data": {
      "image/png": "[encoded data removed]",
      "text/plain": [
       "<Figure size 640x480 with 1 Axes>"
      ]
     },
     "metadata": {},
     "output_type": "display_data"
    }
   ],
   "source": [
    "ft_showme(test_images[2], class_names[test_labels[2][0]],cmap='')\n",
    "ft_showme(test_images[2], class_names[pre[2]],cmap='')\n"
   ]
  },
  {
   "cell_type": "code",
   "execution_count": 252,
   "id": "843d1eb2",
   "metadata": {},
   "outputs": [
    {
     "name": "stdout",
     "output_type": "stream",
     "text": [
      "73\n",
      "\u001b[1m313/313\u001b[0m \u001b[32m━━━━━━━━━━━━━━━━━━━━\u001b[0m\u001b[37m\u001b[0m \u001b[1m0s\u001b[0m 325us/step\n"
     ]
    },
    {
     "data": {
      "image/png": "[encoded data removed]",
      "text/plain": [
       "<Figure size 640x480 with 1 Axes>"
      ]
     },
     "metadata": {},
     "output_type": "display_data"
    }
   ],
   "source": [
    "import random\n",
    "def ft_check_prediction(path_to_model,class_names, id_image=None):\n",
    "    \"\"\"\n",
    "    path of train_model is : \"my_model.keras\"\n",
    "    path of init_model is : \"init.keras\"\n",
    "\n",
    "    image.shape= (32, 32 , 3)\n",
    "    the model is presume to be trained\n",
    "    this function will predict the label of the input image 0_0\n",
    "\n",
    "    predictions.shape = (10000, 10)\n",
    "    \"\"\"\n",
    "    if id_image is None:\n",
    "        id_image = random.randint(0, 100)\n",
    "\n",
    "    print(id_image)\n",
    "    model = tf.keras.models.load_model(path_to_model)\n",
    "    (_, _) , ( test_images, test_labels) = ft_init_dataset()\n",
    "    predictions = model.predict(test_images)                    #(10000, 10) pred of all images\n",
    "    label_pred = np.argmax(predictions[id_image])               #label with max prob = int \n",
    "    probability_pred = predictions[id_image][label_pred]        #value of that prob\n",
    "    label_real = test_labels[id_image][0]                       #same but for real\n",
    "    probability_real = predictions[id_image][label_real]\n",
    "    title = (\"\\n\" + str(class_names[label_pred]) + \" \" + format(probability_pred*100, \".0f\") +\n",
    "      \"% (\" + str(class_names[label_real]) + \" \" + format(probability_real*100, \".0f\") + \"%)\")\n",
    "    plt.imshow(test_images[id_image])\n",
    "    if (label_pred == label_real):\n",
    "        color='b'\n",
    "    else:\n",
    "        color= 'r'\n",
    "    plt.title(title, color=color)\n",
    "    plt.axis(\"off\")\n",
    "ft_check_prediction(\"my_model.keras\",class_names)"
   ]
  },
  {
   "cell_type": "markdown",
   "id": "35abfc6e",
   "metadata": {},
   "source": [
    "Exe 19"
   ]
  },
  {
   "cell_type": "code",
   "execution_count": 267,
   "id": "456beed0",
   "metadata": {},
   "outputs": [],
   "source": [
    "def ft_cifar10_data():\n",
    "    data = keras.datasets.cifar10\n",
    "    cifar10_data = data.load_data()\n",
    "    (train_images, train_labels) , (test_images, test_labels)= cifar10_data\n",
    "    test_images = test_images.astype(\"float32\") / 255.0\n",
    "    train_images = train_images.astype(\"float32\") / 255.0  \n",
    "    return (train_images, train_labels) , (test_images, test_labels)\n",
    "\n",
    "def ft_improved_model(data):\n",
    "    shape =data[0][0].shape[1:]\n",
    "    model = keras.Sequential([\n",
    "        keras.Input(shape=shape),\n",
    "        keras.layers.Flatten(),\n",
    "        keras.layers.Dense(120,activation='relu'),\n",
    "        keras.layers.BatchNormalization(),\n",
    "        keras.layers.Dense(120,activation='relu'), \n",
    "        keras.layers.BatchNormalization(),\n",
    "        keras.layers.Dense(60,activation='relu'), \n",
    "        keras.layers.Dense(10, activation='softmax')    \n",
    "    ])\n",
    "\n",
    "    model.compile(optimizer='adam',\n",
    "                  loss='sparse_categorical_crossentropy',\n",
    "                  metrics=['accuracy'])\n",
    "    return model\n",
    "\n",
    "def ft_train_model(model, output, data):\n",
    "    (train_images, train_labels) , (_,_) = data\n",
    "    model.fit(train_images,train_labels, epochs=10)\n",
    "    model.save(output)\n",
    "\n",
    "def ft_test_model(trained_model):\n",
    "    model = keras.models.load_model(trained_model)\n",
    "    (_,_) , (test_images,test_labels) = data\n",
    "    predictions = model.predict(test_images)\n",
    "    pred_labels = np.argmax(predictions, axis = 1)\n",
    "    mean_guess =np.mean(pred_labels == test_labels)\n",
    "    print(f\"Test accuracy:\\t{mean_guess}\\n\")\n",
    "    return predictions\n",
    "\n"
   ]
  },
  {
   "cell_type": "code",
   "execution_count": null,
   "id": "f87658d0",
   "metadata": {},
   "outputs": [
    {
     "data": {
      "text/plain": [
       "(32, 32, 3)"
      ]
     },
     "execution_count": 268,
     "metadata": {},
     "output_type": "execute_result"
    }
   ],
   "source": [
    "data = ft_cifar10_data()\n"
   ]
  },
  {
   "cell_type": "code",
   "execution_count": null,
   "id": "6f9a9765",
   "metadata": {},
   "outputs": [],
   "source": []
  },
  {
   "cell_type": "code",
   "execution_count": null,
   "id": "5a3b1f97",
   "metadata": {},
   "outputs": [],
   "source": []
  }
 ],
 "metadata": {
  "kernelspec": {
   "display_name": "Python (myenv)",
   "language": "python",
   "name": "myenv"
  },
  "language_info": {
   "codemirror_mode": {
    "name": "ipython",
    "version": 3
   },
   "file_extension": ".py",
   "mimetype": "text/x-python",
   "name": "python",
   "nbconvert_exporter": "python",
   "pygments_lexer": "ipython3",
   "version": "3.13.7"
  }
 },
 "nbformat": 4,
 "nbformat_minor": 5
}
