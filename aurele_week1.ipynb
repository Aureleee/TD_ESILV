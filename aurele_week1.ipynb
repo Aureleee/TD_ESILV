{
 "cells": [
  {
   "cell_type": "markdown",
   "id": "1f5e9aac",
   "metadata": {
    "vscode": {
     "languageId": "plaintext"
    }
   },
   "source": [
    "# test "
   ]
  },
  {
   "cell_type": "code",
   "execution_count": null,
   "id": "bf437635",
   "metadata": {
    "vscode": {
     "languageId": "plaintext"
    }
   },
   "outputs": [],
   "source": []
  }
 ],
 "metadata": {
  "language_info": {
   "name": "python"
  }
 },
 "nbformat": 4,
 "nbformat_minor": 5
}
