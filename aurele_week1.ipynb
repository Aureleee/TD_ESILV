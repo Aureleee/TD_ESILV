{
 "cells": [
  {
   "cell_type": "markdown",
   "id": "1f5e9aac",
   "metadata": {
    "vscode": {
     "languageId": "plaintext"
    }
   },
   "source": [
    "### TD_1:   First neural network for classifying images\n",
    "---"
   ]
  },
  {
   "cell_type": "markdown",
   "id": "486b493c",
   "metadata": {},
   "source": [
    "Exe. 1"
   ]
  },
  {
   "cell_type": "code",
   "execution_count": 275,
   "id": "bf437635",
   "metadata": {},
   "outputs": [],
   "source": [
    "#run this only in GC \n",
    "try :\n",
    "    %tensorflow_version 2.x\n",
    "except Exception:\n",
    "    pass"
   ]
  },
  {
   "cell_type": "markdown",
   "id": "f735ba80",
   "metadata": {},
   "source": [
    "Exe. 2"
   ]
  },
  {
   "cell_type": "code",
   "execution_count": 276,
   "id": "68544d7d",
   "metadata": {},
   "outputs": [],
   "source": [
    "#run this only on GC\n",
    "from __future__ import absolute_import, division, print_function, unicode_literals"
   ]
  },
  {
   "cell_type": "code",
   "execution_count": 277,
   "id": "c4bb5e20",
   "metadata": {},
   "outputs": [],
   "source": [
    "#cool library\n",
    "import tensorflow as tf\n",
    "from tensorflow import keras\n",
    "\n",
    "#bboooooooo\n",
    "import numpy as np\n",
    "import matplotlib.pyplot as plt"
   ]
  },
  {
   "cell_type": "markdown",
   "id": "0f439c15",
   "metadata": {},
   "source": [
    "Exe 3 "
   ]
  },
  {
   "cell_type": "code",
   "execution_count": 278,
   "id": "7a611ee1",
   "metadata": {},
   "outputs": [
    {
     "name": "stdout",
     "output_type": "stream",
     "text": [
      "2.20.0\n"
     ]
    }
   ],
   "source": [
    "print(tf.__version__)"
   ]
  },
  {
   "cell_type": "markdown",
   "id": "7ee6d743",
   "metadata": {},
   "source": [
    "Exe 4 "
   ]
  },
  {
   "cell_type": "code",
   "execution_count": 279,
   "id": "eea96595",
   "metadata": {},
   "outputs": [],
   "source": [
    "data = keras.datasets.cifar10\n",
    "cifar10_data = data.load_data()"
   ]
  },
  {
   "cell_type": "markdown",
   "id": "80068053",
   "metadata": {},
   "source": [
    "Exe. 5 "
   ]
  },
  {
   "cell_type": "code",
   "execution_count": 280,
   "id": "5a4ef920",
   "metadata": {},
   "outputs": [
    {
     "name": "stdout",
     "output_type": "stream",
     "text": [
      "lenght of cifar10_data :2\n",
      "\n",
      "shape of cifar10_data[0][0] :(50000, 32, 32, 3)\n",
      "\n",
      "shape of cifar10_data[0][1] :(50000, 1)\n",
      "\n",
      "type of cifar10_data :<class 'tuple'>\n",
      "\n"
     ]
    }
   ],
   "source": [
    "print(f\"lenght of cifar10_data :{len(cifar10_data)}\\n\")\n",
    "print(f\"shape of cifar10_data[0][0] :{cifar10_data[0][0].shape}\\n\")\n",
    "print(f\"shape of cifar10_data[0][1] :{cifar10_data[0][1].shape}\\n\")\n",
    "print(f\"type of cifar10_data :{type(cifar10_data)}\\n\")"
   ]
  },
  {
   "cell_type": "markdown",
   "id": "d45711e3",
   "metadata": {},
   "source": [
    "50000 photos of 32x32x3 (3 for RGB) pixels"
   ]
  },
  {
   "cell_type": "markdown",
   "id": "6e3a2144",
   "metadata": {},
   "source": [
    "Exe. 6"
   ]
  },
  {
   "cell_type": "code",
   "execution_count": 295,
   "id": "dfeda69f",
   "metadata": {},
   "outputs": [],
   "source": [
    "(train_images, train_labels) , (test_images, test_labels)= cifar10_data\n",
    "\n",
    "\n",
    "#will be usefull for later \n",
    "\n",
    "def ft_cifar10_data():\n",
    "    \n",
    "    data = keras.datasets.cifar10\n",
    "    cifar10_data = data.load_data()\n",
    "    (train_images, train_labels) , (test_images, test_labels)= cifar10_data\n",
    "    test_images = test_images.astype(\"float32\") / 255.0\n",
    "    train_images = train_images.astype(\"float32\") / 255.0  \n",
    "    return (train_images, train_labels) , (test_images, test_labels)"
   ]
  },
  {
   "cell_type": "markdown",
   "id": "92fe3941",
   "metadata": {},
   "source": [
    "Exe 7"
   ]
  },
  {
   "cell_type": "code",
   "execution_count": 296,
   "id": "9f448db5",
   "metadata": {},
   "outputs": [
    {
     "name": "stdout",
     "output_type": "stream",
     "text": [
      "[0 0 0]\n",
      "(32, 32, 3)\n"
     ]
    }
   ],
   "source": [
    "print(train_images[0][1][1])\n",
    "print(train_images[0].shape)\n",
    "\n",
    "class_names = [\n",
    "    'airplane',\n",
    "    'automobile',\n",
    "    'bird',\n",
    "    'cat',\n",
    "    'deer',\n",
    "    'dog',\n",
    "    'frog',\n",
    "    'horse',\n",
    "    'ship',\n",
    "    'truck'\n",
    "]"
   ]
  },
  {
   "cell_type": "markdown",
   "id": "3c187b39",
   "metadata": {},
   "source": [
    "Exe 9"
   ]
  },
  {
   "cell_type": "code",
   "execution_count": 297,
   "id": "51d18440",
   "metadata": {},
   "outputs": [
    {
     "data": {
      "image/png": "[encoded data removed]",
      "text/plain": [
       "<Figure size 640x480 with 2 Axes>"
      ]
     },
     "metadata": {},
     "output_type": "display_data"
    }
   ],
   "source": [
    "index = 7 \n",
    "plt.figure()\n",
    "plt.imshow(train_images[index])\n",
    "plt.title(class_names[train_labels[index][0]])\n",
    "plt.colorbar()\n",
    "plt.grid(False)\n",
    "plt.show()\n"
   ]
  },
  {
   "cell_type": "markdown",
   "id": "62a3f9f5",
   "metadata": {},
   "source": [
    "Exe 10"
   ]
  },
  {
   "cell_type": "code",
   "execution_count": 298,
   "id": "278f443b",
   "metadata": {},
   "outputs": [
    {
     "data": {
      "image/png": "[encoded data removed]",
      "text/plain": [
       "<Figure size 640x480 with 1 Axes>"
      ]
     },
     "metadata": {},
     "output_type": "display_data"
    },
    {
     "data": {
      "image/png": "[encoded data removed]",
      "text/plain": [
       "<Figure size 640x480 with 1 Axes>"
      ]
     },
     "metadata": {},
     "output_type": "display_data"
    }
   ],
   "source": [
    "#utils \n",
    "\n",
    "def ft_showme(image, label=None,cmap=None):\n",
    "    \"\"\"\n",
    "    image: numpy array (2D)\n",
    "    cmap: \n",
    "    \"\"\"\n",
    "    plt.imshow(image)\n",
    "    if label is not None:\n",
    "        plt.title(f\"Label: {label}\")\n",
    "    plt.axis(\"off\")\n",
    "    plt.show()\n",
    "ft_showme(train_images[0], class_names[train_labels[0][0]],cmap='')\n",
    "ft_showme(train_images[1],class_names[train_labels[1][0]],cmap='')\n"
   ]
  },
  {
   "cell_type": "code",
   "execution_count": 299,
   "id": "0185e55b",
   "metadata": {},
   "outputs": [],
   "source": [
    "# plt.subplot()\n",
    "# plt.xticks([])\n",
    "# plt.yticks([])\n",
    "# plt.imshow()\n",
    "# plt.xlabel()\n",
    "\n",
    "#what is this  ?? "
   ]
  },
  {
   "cell_type": "markdown",
   "id": "e6fddcdd",
   "metadata": {},
   "source": [
    "Exe 11 "
   ]
  },
  {
   "cell_type": "code",
   "execution_count": null,
   "id": "cf37d8fe",
   "metadata": {},
   "outputs": [],
   "source": []
  },
  {
   "cell_type": "markdown",
   "id": "b653f21a",
   "metadata": {},
   "source": [
    "Exe 12 "
   ]
  },
  {
   "cell_type": "code",
   "execution_count": 300,
   "id": "6cf98001",
   "metadata": {},
   "outputs": [],
   "source": [
    "\n",
    "data = ft_cifar10_data()\n",
    "(train_images, train_labels) , (test_images, test_labels) = data\n",
    "def create_model(data):\n",
    "    shape =data[0][0].shape[1:]\n",
    "    model = keras.Sequential([\n",
    "        keras.Input(shape= shape),\n",
    "        keras.layers.Flatten(),\n",
    "        keras.layers.Dense(128, activation='relu'),\n",
    "        keras.layers.Dense(10, activation='softmax')    \n",
    "    ])\n",
    "    model.compile(optimizer='adam',\n",
    "                  loss='sparse_categorical_crossentropy',\n",
    "                  metrics=['accuracy'])\n",
    "    return model\n",
    "\n",
    "model = create_model(data)\n",
    "model.save(\"init.keras\")"
   ]
  },
  {
   "cell_type": "markdown",
   "id": "1577b438",
   "metadata": {},
   "source": [
    "Exe 14"
   ]
  },
  {
   "cell_type": "code",
   "execution_count": 301,
   "id": "80fc5471",
   "metadata": {},
   "outputs": [
    {
     "name": "stdout",
     "output_type": "stream",
     "text": [
      "Epoch 1/5\n",
      "\u001b[1m1563/1563\u001b[0m \u001b[32m━━━━━━━━━━━━━━━━━━━━\u001b[0m\u001b[37m\u001b[0m \u001b[1m2s\u001b[0m 1ms/step - accuracy: 0.3155 - loss: 1.9097\n",
      "Epoch 2/5\n",
      "\u001b[1m1563/1563\u001b[0m \u001b[32m━━━━━━━━━━━━━━━━━━━━\u001b[0m\u001b[37m\u001b[0m \u001b[1m2s\u001b[0m 1ms/step - accuracy: 0.3745 - loss: 1.7502\n",
      "Epoch 3/5\n",
      "\u001b[1m1563/1563\u001b[0m \u001b[32m━━━━━━━━━━━━━━━━━━━━\u001b[0m\u001b[37m\u001b[0m \u001b[1m2s\u001b[0m 1ms/step - accuracy: 0.3940 - loss: 1.6968\n",
      "Epoch 4/5\n",
      "\u001b[1m1563/1563\u001b[0m \u001b[32m━━━━━━━━━━━━━━━━━━━━\u001b[0m\u001b[37m\u001b[0m \u001b[1m2s\u001b[0m 1ms/step - accuracy: 0.4082 - loss: 1.6653\n",
      "Epoch 5/5\n",
      "\u001b[1m1563/1563\u001b[0m \u001b[32m━━━━━━━━━━━━━━━━━━━━\u001b[0m\u001b[37m\u001b[0m \u001b[1m2s\u001b[0m 1ms/step - accuracy: 0.4146 - loss: 1.6425\n"
     ]
    }
   ],
   "source": [
    "#let's compile it :P\n",
    "model.fit(train_images, train_labels, epochs=5)\n",
    "model.save(\"my_model.keras\")   # ou .h5"
   ]
  },
  {
   "cell_type": "markdown",
   "id": "96cc803b",
   "metadata": {},
   "source": [
    "Exe 15"
   ]
  },
  {
   "cell_type": "code",
   "execution_count": 303,
   "id": "1f1f41a2",
   "metadata": {},
   "outputs": [
    {
     "name": "stdout",
     "output_type": "stream",
     "text": [
      "\u001b[1m313/313\u001b[0m \u001b[32m━━━━━━━━━━━━━━━━━━━━\u001b[0m\u001b[37m\u001b[0m \u001b[1m0s\u001b[0m 342us/step\n",
      "[[0.03580777 0.05107925 0.03893022 0.16831651 0.05087575 0.05514684\n",
      "  0.04208538 0.0921655  0.2715225  0.19407031]\n",
      " [0.05363947 0.07367352 0.02397869 0.21452811 0.03656418 0.03344432\n",
      "  0.02530242 0.05043881 0.40385225 0.08457822]\n",
      " [0.0672039  0.07026856 0.03151472 0.22080515 0.05350013 0.07411455\n",
      "  0.0296743  0.06367021 0.2814282  0.10782034]\n",
      " [0.04491315 0.04970493 0.02532861 0.21048908 0.04221957 0.03522346\n",
      "  0.02916348 0.05377495 0.4063226  0.10286012]\n",
      " [0.04167654 0.07147931 0.03384221 0.19051795 0.04291833 0.06003146\n",
      "  0.05402816 0.1251463  0.2812043  0.09915542]]\n"
     ]
    }
   ],
   "source": [
    "model= tf.keras.models.load_model(\"init.keras\")\n",
    "\n",
    "# model.load_weights(\"init.weights.h5\")\n",
    "predictions = model.predict(test_images)\n",
    "\n",
    "print(predictions[:5])\n"
   ]
  },
  {
   "cell_type": "code",
   "execution_count": 304,
   "id": "5391d2b9",
   "metadata": {},
   "outputs": [],
   "source": [
    "# DOn't execute (it will reset the weights)\n"
   ]
  },
  {
   "cell_type": "markdown",
   "id": "47872188",
   "metadata": {},
   "source": [
    "Exe 16"
   ]
  },
  {
   "cell_type": "code",
   "execution_count": 305,
   "id": "ebe8e456",
   "metadata": {},
   "outputs": [
    {
     "name": "stdout",
     "output_type": "stream",
     "text": [
      "\u001b[1m313/313\u001b[0m \u001b[32m━━━━━━━━━━━━━━━━━━━━\u001b[0m\u001b[37m\u001b[0m \u001b[1m0s\u001b[0m 360us/step\n",
      "\n",
      "predicted labels : [1 9 8 8 4 6 3 4 4 1 8 9 7 7 1]\n",
      "\n",
      "probability of predicted labels :\n",
      "0.284\t0.322\t0.513\t0.535\t0.394\t0.421\t0.333\t0.325\t0.365\t0.676\t0.411\t0.600\t0.192\t0.420\t0.217\t\n",
      "\n",
      "real labels : [3 8 8 0 6 6 1 6 3 1 0 9 5 7 9]\n",
      "\n",
      "\n",
      "Probability of real label\n",
      "0.095\t0.314\t0.513\t0.301\t0.194\t0.421\t0.063\t0.295\t0.056\t0.676\t0.329\t0.600\t0.132\t0.420\t0.183\t"
     ]
    }
   ],
   "source": [
    "model= tf.keras.models.load_model(\"my_model.keras\")\n",
    "\n",
    "\n",
    "predictions = model.predict(test_images)\n",
    "\n",
    "index = 15;\n",
    "#print(predictions[:index])\n",
    "pre = np.argmax(predictions, axis=1)\n",
    "## NEED TO MODIFY THE FOLLOWING LINE !! (just kidding hhh)\n",
    "print(f\"\\npredicted labels : {pre[:index]}\\n\")\n",
    "print(f\"probability of predicted labels :\")\n",
    "for i in range(index):\n",
    "    print(f\"{predictions[i][pre[i]]:.3f}\", end=\"\\t\")\n",
    "print(f\"\\n\\nreal labels : {test_labels[:index].flatten()}\\n\")\n",
    "print(\"\\nProbability of real label\")\n",
    "for i in range(index):\n",
    "    print(f\"{predictions[i][test_labels[i][0]]:.3f}\", end=\"\\t\")"
   ]
  },
  {
   "cell_type": "code",
   "execution_count": 306,
   "id": "a197eeec",
   "metadata": {},
   "outputs": [
    {
     "data": {
      "image/png": "[encoded data removed]",
      "text/plain": [
       "<Figure size 640x480 with 1 Axes>"
      ]
     },
     "metadata": {},
     "output_type": "display_data"
    },
    {
     "data": {
      "image/png": "[encoded data removed]",
      "text/plain": [
       "<Figure size 640x480 with 1 Axes>"
      ]
     },
     "metadata": {},
     "output_type": "display_data"
    }
   ],
   "source": [
    "ft_showme(test_images[2], class_names[test_labels[2][0]],cmap='')\n",
    "ft_showme(test_images[2], class_names[pre[2]],cmap='')\n"
   ]
  },
  {
   "cell_type": "code",
   "execution_count": 308,
   "id": "843d1eb2",
   "metadata": {},
   "outputs": [
    {
     "name": "stdout",
     "output_type": "stream",
     "text": [
      "27\n",
      "\u001b[1m313/313\u001b[0m \u001b[32m━━━━━━━━━━━━━━━━━━━━\u001b[0m\u001b[37m\u001b[0m \u001b[1m0s\u001b[0m 322us/step\n"
     ]
    },
    {
     "data": {
      "image/png": "[encoded data removed]",
      "text/plain": [
       "<Figure size 640x480 with 1 Axes>"
      ]
     },
     "metadata": {},
     "output_type": "display_data"
    }
   ],
   "source": [
    "import random\n",
    "def ft_check_prediction(path_to_model,class_names,data, id_image=None):\n",
    "    \"\"\"\n",
    "    path of train_model is : \"my_model.keras\"\n",
    "    path of init_model is : \"init.keras\"\n",
    "\n",
    "    image.shape= (32, 32 , 3)\n",
    "    the model is presume to be trained\n",
    "    this function will predict the label of the input image 0_0\n",
    "\n",
    "    predictions.shape = (10000, 10)\n",
    "    \"\"\"\n",
    "    if id_image is None:\n",
    "        id_image = random.randint(0, 100)\n",
    "\n",
    "    print(id_image)\n",
    "    model = tf.keras.models.load_model(path_to_model)\n",
    "    (_, _) , ( test_images, test_labels) = data\n",
    "    predictions = model.predict(test_images)                    #(10000, 10) pred of all images\n",
    "    label_pred = np.argmax(predictions[id_image])               #label with max prob = int \n",
    "    probability_pred = predictions[id_image][label_pred]        #value of that prob\n",
    "    label_real = test_labels[id_image][0]                       #same but for real\n",
    "    probability_real = predictions[id_image][label_real]\n",
    "    title = (\"\\n\" + str(class_names[label_pred]) + \" \" + format(probability_pred*100, \".0f\") +\n",
    "      \"% (\" + str(class_names[label_real]) + \" \" + format(probability_real*100, \".0f\") + \"%)\")\n",
    "    plt.imshow(test_images[id_image])\n",
    "    if (label_pred == label_real):\n",
    "        color='b'\n",
    "    else:\n",
    "        color= 'r'\n",
    "    plt.title(title, color=color)\n",
    "    plt.axis(\"off\")\n",
    "ft_check_prediction(\"my_model.keras\",class_names, data)"
   ]
  },
  {
   "cell_type": "markdown",
   "id": "35abfc6e",
   "metadata": {},
   "source": [
    "Exe 19"
   ]
  },
  {
   "cell_type": "code",
   "execution_count": 333,
   "id": "456beed0",
   "metadata": {},
   "outputs": [],
   "source": [
    "def ft_cifar10_data():\n",
    "    data = keras.datasets.cifar10\n",
    "    cifar10_data = data.load_data()\n",
    "    (train_images, train_labels) , (test_images, test_labels)= cifar10_data\n",
    "    test_images = test_images.astype(\"float32\") / 255.0\n",
    "    train_images = train_images.astype(\"float32\") / 255.0  \n",
    "    return (train_images, train_labels) , (test_images, test_labels)\n",
    "\n",
    "def ft_improved_model(data):\n",
    "    shape =data[0][0].shape[1:]\n",
    "    model = keras.Sequential([\n",
    "        keras.Input(shape=shape),\n",
    "        keras.layers.Flatten(),\n",
    "        keras.layers.Dense(120,activation='relu'),\n",
    "        keras.layers.BatchNormalization(),\n",
    "        keras.layers.Dense(120,activation='relu'), \n",
    "        keras.layers.BatchNormalization(),\n",
    "        keras.layers.Dense(60,activation='relu'), \n",
    "        keras.layers.Dense(10, activation='softmax')    \n",
    "    ])\n",
    "\n",
    "    model.compile(optimizer='adam',\n",
    "                  loss='sparse_categorical_crossentropy',\n",
    "                  metrics=['accuracy'])\n",
    "    return model\n",
    "\n",
    "def ft_train_model(model, output, data):\n",
    "    (train_images, train_labels) , (_,_) = data\n",
    "    model.fit(train_images,train_labels, epochs=20)\n",
    "    model.save(output)\n",
    "\n",
    "def ft_test_model(trained_model,data):\n",
    "    model = keras.models.load_model(trained_model)\n",
    "    (_,_) , (test_images,test_labels) = data\n",
    "    test_labels = test_labels.squeeze()\n",
    "    predictions = model.predict(test_images)\n",
    "    pred_labels = np.argmax(predictions, axis = 1)\n",
    "    acc = np.mean(pred_labels == test_labels)  # (10000,) vs (10000,) (thanks to .squeeze())\n",
    "    print(f\"Test accuracy:\\t{acc:.4f}\")\n",
    "    return predictions\n",
    "\n"
   ]
  },
  {
   "cell_type": "code",
   "execution_count": 317,
   "id": "f87658d0",
   "metadata": {},
   "outputs": [
    {
     "name": "stdout",
     "output_type": "stream",
     "text": [
      "Epoch 1/10\n",
      "\u001b[1m1563/1563\u001b[0m \u001b[32m━━━━━━━━━━━━━━━━━━━━\u001b[0m\u001b[37m\u001b[0m \u001b[1m2s\u001b[0m 1ms/step - accuracy: 0.3779 - loss: 1.7376\n",
      "Epoch 2/10\n",
      "\u001b[1m1563/1563\u001b[0m \u001b[32m━━━━━━━━━━━━━━━━━━━━\u001b[0m\u001b[37m\u001b[0m \u001b[1m2s\u001b[0m 1ms/step - accuracy: 0.4423 - loss: 1.5651\n",
      "Epoch 3/10\n",
      "\u001b[1m1563/1563\u001b[0m \u001b[32m━━━━━━━━━━━━━━━━━━━━\u001b[0m\u001b[37m\u001b[0m \u001b[1m2s\u001b[0m 1ms/step - accuracy: 0.4678 - loss: 1.4964\n",
      "Epoch 4/10\n",
      "\u001b[1m1563/1563\u001b[0m \u001b[32m━━━━━━━━━━━━━━━━━━━━\u001b[0m\u001b[37m\u001b[0m \u001b[1m2s\u001b[0m 1ms/step - accuracy: 0.4857 - loss: 1.4386\n",
      "Epoch 5/10\n",
      "\u001b[1m1563/1563\u001b[0m \u001b[32m━━━━━━━━━━━━━━━━━━━━\u001b[0m\u001b[37m\u001b[0m \u001b[1m2s\u001b[0m 1ms/step - accuracy: 0.4990 - loss: 1.4043\n",
      "Epoch 6/10\n",
      "\u001b[1m1563/1563\u001b[0m \u001b[32m━━━━━━━━━━━━━━━━━━━━\u001b[0m\u001b[37m\u001b[0m \u001b[1m2s\u001b[0m 1ms/step - accuracy: 0.5105 - loss: 1.3715\n",
      "Epoch 7/10\n",
      "\u001b[1m1563/1563\u001b[0m \u001b[32m━━━━━━━━━━━━━━━━━━━━\u001b[0m\u001b[37m\u001b[0m \u001b[1m2s\u001b[0m 1ms/step - accuracy: 0.5164 - loss: 1.3501\n",
      "Epoch 8/10\n",
      "\u001b[1m1563/1563\u001b[0m \u001b[32m━━━━━━━━━━━━━━━━━━━━\u001b[0m\u001b[37m\u001b[0m \u001b[1m2s\u001b[0m 1ms/step - accuracy: 0.5237 - loss: 1.3275\n",
      "Epoch 9/10\n",
      "\u001b[1m1563/1563\u001b[0m \u001b[32m━━━━━━━━━━━━━━━━━━━━\u001b[0m\u001b[37m\u001b[0m \u001b[1m2s\u001b[0m 1ms/step - accuracy: 0.5321 - loss: 1.3041\n",
      "Epoch 10/10\n",
      "\u001b[1m1563/1563\u001b[0m \u001b[32m━━━━━━━━━━━━━━━━━━━━\u001b[0m\u001b[37m\u001b[0m \u001b[1m2s\u001b[0m 1ms/step - accuracy: 0.5398 - loss: 1.2866\n"
     ]
    }
   ],
   "source": [
    "data = ft_cifar10_data()\n",
    "model = ft_improved_model(data)\n",
    "ft_train_model(model, \"my_model_improved.keras\",data)\n",
    "model = tf.keras.models.load_model(\"my_model_improved.keras\")"
   ]
  },
  {
   "cell_type": "code",
   "execution_count": null,
   "id": "6f9a9765",
   "metadata": {},
   "outputs": [
    {
     "name": "stdout",
     "output_type": "stream",
     "text": [
      "Model that was given by the instruction sheet\n",
      "\n",
      "\u001b[1m313/313\u001b[0m \u001b[32m━━━━━━━━━━━━━━━━━━━━\u001b[0m\u001b[37m\u001b[0m \u001b[1m0s\u001b[0m 414us/step\n",
      "Test accuracy:\t0.4570\n",
      "My super cool GIGA CHAD model\n",
      "\u001b[1m313/313\u001b[0m \u001b[32m━━━━━━━━━━━━━━━━━━━━\u001b[0m\u001b[37m\u001b[0m \u001b[1m0s\u001b[0m 326us/step\n",
      "Test accuracy:\t0.4066\n"
     ]
    }
   ],
   "source": [
    "##LET'S go sa mère \n",
    "data = ft_cifar10_data()\n",
    "print(\"Model that was given by the instruction sheet\\n\")\n",
    "predicion = ft_test_model(\"my_model_improved.keras\",data)\n",
    "print(\"My super cool GIGA CHAD model\")\n",
    "predicion = ft_test_model(\"my_model.keras\",data)"
   ]
  },
  {
   "cell_type": "code",
   "execution_count": 337,
   "id": "5a3b1f97",
   "metadata": {},
   "outputs": [
    {
     "name": "stdout",
     "output_type": "stream",
     "text": [
      "12\n",
      "\u001b[1m313/313\u001b[0m \u001b[32m━━━━━━━━━━━━━━━━━━━━\u001b[0m\u001b[37m\u001b[0m \u001b[1m0s\u001b[0m 411us/step\n"
     ]
    },
    {
     "data": {
      "image/png": "[encoded data removed]",
      "text/plain": [
       "<Figure size 640x480 with 1 Axes>"
      ]
     },
     "metadata": {},
     "output_type": "display_data"
    }
   ],
   "source": [
    "data = ft_cifar10_data()\n",
    "ft_check_prediction(\"my_model_improved.keras\",class_names, data)"
   ]
  }
 ],
 "metadata": {
  "kernelspec": {
   "display_name": "Python (myenv)",
   "language": "python",
   "name": "myenv"
  },
  "language_info": {
   "codemirror_mode": {
    "name": "ipython",
    "version": 3
   },
   "file_extension": ".py",
   "mimetype": "text/x-python",
   "name": "python",
   "nbconvert_exporter": "python",
   "pygments_lexer": "ipython3",
   "version": "3.13.7"
  }
 },
 "nbformat": 4,
 "nbformat_minor": 5
}
